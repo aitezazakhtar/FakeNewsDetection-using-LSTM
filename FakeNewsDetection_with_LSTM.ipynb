{
  "nbformat": 4,
  "nbformat_minor": 0,
  "metadata": {
    "colab": {
      "name": "FakeNewsDetection-with-LSTM.ipynb",
      "provenance": [],
      "collapsed_sections": []
    },
    "kernelspec": {
      "name": "python3",
      "display_name": "Python 3"
    },
    "language_info": {
      "name": "python"
    }
  },
  "cells": [
    {
      "cell_type": "markdown",
      "metadata": {
        "id": "fjnf6cXf1T9G"
      },
      "source": [
        "# Import Libraries"
      ]
    },
    {
      "cell_type": "code",
      "metadata": {
        "id": "tcH410Xwz3jJ"
      },
      "source": [
        "import numpy as np\n",
        "import pandas as pd\n",
        "import matplotlib.pyplot as plt\n",
        "\n",
        "import nltk\n",
        "import re\n",
        "import string\n",
        "from nltk.corpus import stopwords  \n",
        "\n",
        "from sklearn.model_selection import train_test_split\n",
        "\n",
        "import keras\n",
        "from keras.preprocessing import text, sequence\n",
        "from keras.models import Sequential\n",
        "from keras.layers import Dense, Embedding, LSTM, Dropout "
      ],
      "execution_count": null,
      "outputs": []
    },
    {
      "cell_type": "code",
      "metadata": {
        "colab": {
          "base_uri": "https://localhost:8080/"
        },
        "id": "OtNUTTOT00Ej",
        "outputId": "0617520e-0f5c-4126-d17e-7b967ddb447d"
      },
      "source": [
        "from google.colab import drive\n",
        "drive.mount('/content/drive')"
      ],
      "execution_count": null,
      "outputs": [
        {
          "output_type": "stream",
          "text": [
            "Mounted at /content/drive\n"
          ],
          "name": "stdout"
        }
      ]
    },
    {
      "cell_type": "markdown",
      "metadata": {
        "id": "wvic9Xld1NsS"
      },
      "source": [
        "# Load Data"
      ]
    },
    {
      "cell_type": "code",
      "metadata": {
        "id": "RUxP3L8k0_6L"
      },
      "source": [
        "real_data = pd.read_csv('/content/drive/MyDrive/FakeNews/True.csv')\n",
        "fake_data = pd.read_csv('/content/drive/MyDrive/FakeNews/Fake.csv')"
      ],
      "execution_count": null,
      "outputs": []
    },
    {
      "cell_type": "code",
      "metadata": {
        "colab": {
          "base_uri": "https://localhost:8080/",
          "height": 204
        },
        "id": "Kp1MUqKU1XzJ",
        "outputId": "cb41f845-8c23-449c-bbf0-b3ddcc9128b5"
      },
      "source": [
        "real_data.head()"
      ],
      "execution_count": null,
      "outputs": [
        {
          "output_type": "execute_result",
          "data": {
            "text/html": [
              "<div>\n",
              "<style scoped>\n",
              "    .dataframe tbody tr th:only-of-type {\n",
              "        vertical-align: middle;\n",
              "    }\n",
              "\n",
              "    .dataframe tbody tr th {\n",
              "        vertical-align: top;\n",
              "    }\n",
              "\n",
              "    .dataframe thead th {\n",
              "        text-align: right;\n",
              "    }\n",
              "</style>\n",
              "<table border=\"1\" class=\"dataframe\">\n",
              "  <thead>\n",
              "    <tr style=\"text-align: right;\">\n",
              "      <th></th>\n",
              "      <th>title</th>\n",
              "      <th>text</th>\n",
              "      <th>subject</th>\n",
              "      <th>date</th>\n",
              "    </tr>\n",
              "  </thead>\n",
              "  <tbody>\n",
              "    <tr>\n",
              "      <th>0</th>\n",
              "      <td>As U.S. budget fight looms, Republicans flip t...</td>\n",
              "      <td>WASHINGTON (Reuters) - The head of a conservat...</td>\n",
              "      <td>politicsNews</td>\n",
              "      <td>December 31, 2017</td>\n",
              "    </tr>\n",
              "    <tr>\n",
              "      <th>1</th>\n",
              "      <td>U.S. military to accept transgender recruits o...</td>\n",
              "      <td>WASHINGTON (Reuters) - Transgender people will...</td>\n",
              "      <td>politicsNews</td>\n",
              "      <td>December 29, 2017</td>\n",
              "    </tr>\n",
              "    <tr>\n",
              "      <th>2</th>\n",
              "      <td>Senior U.S. Republican senator: 'Let Mr. Muell...</td>\n",
              "      <td>WASHINGTON (Reuters) - The special counsel inv...</td>\n",
              "      <td>politicsNews</td>\n",
              "      <td>December 31, 2017</td>\n",
              "    </tr>\n",
              "    <tr>\n",
              "      <th>3</th>\n",
              "      <td>FBI Russia probe helped by Australian diplomat...</td>\n",
              "      <td>WASHINGTON (Reuters) - Trump campaign adviser ...</td>\n",
              "      <td>politicsNews</td>\n",
              "      <td>December 30, 2017</td>\n",
              "    </tr>\n",
              "    <tr>\n",
              "      <th>4</th>\n",
              "      <td>Trump wants Postal Service to charge 'much mor...</td>\n",
              "      <td>SEATTLE/WASHINGTON (Reuters) - President Donal...</td>\n",
              "      <td>politicsNews</td>\n",
              "      <td>December 29, 2017</td>\n",
              "    </tr>\n",
              "  </tbody>\n",
              "</table>\n",
              "</div>"
            ],
            "text/plain": [
              "                                               title  ...                date\n",
              "0  As U.S. budget fight looms, Republicans flip t...  ...  December 31, 2017 \n",
              "1  U.S. military to accept transgender recruits o...  ...  December 29, 2017 \n",
              "2  Senior U.S. Republican senator: 'Let Mr. Muell...  ...  December 31, 2017 \n",
              "3  FBI Russia probe helped by Australian diplomat...  ...  December 30, 2017 \n",
              "4  Trump wants Postal Service to charge 'much mor...  ...  December 29, 2017 \n",
              "\n",
              "[5 rows x 4 columns]"
            ]
          },
          "metadata": {
            "tags": []
          },
          "execution_count": 50
        }
      ]
    },
    {
      "cell_type": "code",
      "metadata": {
        "colab": {
          "base_uri": "https://localhost:8080/",
          "height": 204
        },
        "id": "gWzvdl631afh",
        "outputId": "9a988569-118b-46b5-e75b-d7afa5300ada"
      },
      "source": [
        "fake_data.head()"
      ],
      "execution_count": null,
      "outputs": [
        {
          "output_type": "execute_result",
          "data": {
            "text/html": [
              "<div>\n",
              "<style scoped>\n",
              "    .dataframe tbody tr th:only-of-type {\n",
              "        vertical-align: middle;\n",
              "    }\n",
              "\n",
              "    .dataframe tbody tr th {\n",
              "        vertical-align: top;\n",
              "    }\n",
              "\n",
              "    .dataframe thead th {\n",
              "        text-align: right;\n",
              "    }\n",
              "</style>\n",
              "<table border=\"1\" class=\"dataframe\">\n",
              "  <thead>\n",
              "    <tr style=\"text-align: right;\">\n",
              "      <th></th>\n",
              "      <th>title</th>\n",
              "      <th>text</th>\n",
              "      <th>subject</th>\n",
              "      <th>date</th>\n",
              "    </tr>\n",
              "  </thead>\n",
              "  <tbody>\n",
              "    <tr>\n",
              "      <th>0</th>\n",
              "      <td>Donald Trump Sends Out Embarrassing New Year’...</td>\n",
              "      <td>Donald Trump just couldn t wish all Americans ...</td>\n",
              "      <td>News</td>\n",
              "      <td>December 31, 2017</td>\n",
              "    </tr>\n",
              "    <tr>\n",
              "      <th>1</th>\n",
              "      <td>Drunk Bragging Trump Staffer Started Russian ...</td>\n",
              "      <td>House Intelligence Committee Chairman Devin Nu...</td>\n",
              "      <td>News</td>\n",
              "      <td>December 31, 2017</td>\n",
              "    </tr>\n",
              "    <tr>\n",
              "      <th>2</th>\n",
              "      <td>Sheriff David Clarke Becomes An Internet Joke...</td>\n",
              "      <td>On Friday, it was revealed that former Milwauk...</td>\n",
              "      <td>News</td>\n",
              "      <td>December 30, 2017</td>\n",
              "    </tr>\n",
              "    <tr>\n",
              "      <th>3</th>\n",
              "      <td>Trump Is So Obsessed He Even Has Obama’s Name...</td>\n",
              "      <td>On Christmas day, Donald Trump announced that ...</td>\n",
              "      <td>News</td>\n",
              "      <td>December 29, 2017</td>\n",
              "    </tr>\n",
              "    <tr>\n",
              "      <th>4</th>\n",
              "      <td>Pope Francis Just Called Out Donald Trump Dur...</td>\n",
              "      <td>Pope Francis used his annual Christmas Day mes...</td>\n",
              "      <td>News</td>\n",
              "      <td>December 25, 2017</td>\n",
              "    </tr>\n",
              "  </tbody>\n",
              "</table>\n",
              "</div>"
            ],
            "text/plain": [
              "                                               title  ...               date\n",
              "0   Donald Trump Sends Out Embarrassing New Year’...  ...  December 31, 2017\n",
              "1   Drunk Bragging Trump Staffer Started Russian ...  ...  December 31, 2017\n",
              "2   Sheriff David Clarke Becomes An Internet Joke...  ...  December 30, 2017\n",
              "3   Trump Is So Obsessed He Even Has Obama’s Name...  ...  December 29, 2017\n",
              "4   Pope Francis Just Called Out Donald Trump Dur...  ...  December 25, 2017\n",
              "\n",
              "[5 rows x 4 columns]"
            ]
          },
          "metadata": {
            "tags": []
          },
          "execution_count": 51
        }
      ]
    },
    {
      "cell_type": "code",
      "metadata": {
        "colab": {
          "base_uri": "https://localhost:8080/"
        },
        "id": "s5MXndF01fJu",
        "outputId": "3303a9be-5237-4124-fc86-1e625f5bb527"
      },
      "source": [
        "fake_data.shape, real_data.shape"
      ],
      "execution_count": null,
      "outputs": [
        {
          "output_type": "execute_result",
          "data": {
            "text/plain": [
              "((23481, 4), (21417, 4))"
            ]
          },
          "metadata": {
            "tags": []
          },
          "execution_count": 52
        }
      ]
    },
    {
      "cell_type": "code",
      "metadata": {
        "id": "Ld7l9wKW3XkN"
      },
      "source": [
        "#reducing dataset\n",
        "real_data = real_data.iloc[:10000]\n",
        "fake_data = fake_data.iloc[:10000]"
      ],
      "execution_count": null,
      "outputs": []
    },
    {
      "cell_type": "code",
      "metadata": {
        "id": "Xh6RbTYg4CPi",
        "colab": {
          "base_uri": "https://localhost:8080/"
        },
        "outputId": "5832a8ae-529a-47b9-a38d-c4798d94cfa4"
      },
      "source": [
        "fake_data.shape, real_data.shape"
      ],
      "execution_count": null,
      "outputs": [
        {
          "output_type": "execute_result",
          "data": {
            "text/plain": [
              "((10000, 4), (10000, 4))"
            ]
          },
          "metadata": {
            "tags": []
          },
          "execution_count": 54
        }
      ]
    },
    {
      "cell_type": "code",
      "metadata": {
        "id": "N81EvNZK1h72"
      },
      "source": [
        "#add new column for true and false news for later classification\n",
        "real_data['target'] = 1\n",
        "fake_data['target'] = 0"
      ],
      "execution_count": null,
      "outputs": []
    },
    {
      "cell_type": "code",
      "metadata": {
        "colab": {
          "base_uri": "https://localhost:8080/"
        },
        "id": "Y2e0U3V81x_p",
        "outputId": "28a4c57d-45b9-4ec2-b7eb-0c07979e555a"
      },
      "source": [
        "#Merge both datasets\n",
        "data = pd.concat([real_data, fake_data], ignore_index=True, sort=False)\n",
        "data.shape"
      ],
      "execution_count": null,
      "outputs": [
        {
          "output_type": "execute_result",
          "data": {
            "text/plain": [
              "(20000, 5)"
            ]
          },
          "metadata": {
            "tags": []
          },
          "execution_count": 56
        }
      ]
    },
    {
      "cell_type": "code",
      "metadata": {
        "colab": {
          "base_uri": "https://localhost:8080/",
          "height": 204
        },
        "id": "u9Xam0xIezKn",
        "outputId": "fafa1bf5-b978-4e35-c745-d9ca2108a077"
      },
      "source": [
        "data.head()"
      ],
      "execution_count": null,
      "outputs": [
        {
          "output_type": "execute_result",
          "data": {
            "text/html": [
              "<div>\n",
              "<style scoped>\n",
              "    .dataframe tbody tr th:only-of-type {\n",
              "        vertical-align: middle;\n",
              "    }\n",
              "\n",
              "    .dataframe tbody tr th {\n",
              "        vertical-align: top;\n",
              "    }\n",
              "\n",
              "    .dataframe thead th {\n",
              "        text-align: right;\n",
              "    }\n",
              "</style>\n",
              "<table border=\"1\" class=\"dataframe\">\n",
              "  <thead>\n",
              "    <tr style=\"text-align: right;\">\n",
              "      <th></th>\n",
              "      <th>title</th>\n",
              "      <th>text</th>\n",
              "      <th>subject</th>\n",
              "      <th>date</th>\n",
              "      <th>target</th>\n",
              "    </tr>\n",
              "  </thead>\n",
              "  <tbody>\n",
              "    <tr>\n",
              "      <th>0</th>\n",
              "      <td>As U.S. budget fight looms, Republicans flip t...</td>\n",
              "      <td>WASHINGTON (Reuters) - The head of a conservat...</td>\n",
              "      <td>politicsNews</td>\n",
              "      <td>December 31, 2017</td>\n",
              "      <td>1</td>\n",
              "    </tr>\n",
              "    <tr>\n",
              "      <th>1</th>\n",
              "      <td>U.S. military to accept transgender recruits o...</td>\n",
              "      <td>WASHINGTON (Reuters) - Transgender people will...</td>\n",
              "      <td>politicsNews</td>\n",
              "      <td>December 29, 2017</td>\n",
              "      <td>1</td>\n",
              "    </tr>\n",
              "    <tr>\n",
              "      <th>2</th>\n",
              "      <td>Senior U.S. Republican senator: 'Let Mr. Muell...</td>\n",
              "      <td>WASHINGTON (Reuters) - The special counsel inv...</td>\n",
              "      <td>politicsNews</td>\n",
              "      <td>December 31, 2017</td>\n",
              "      <td>1</td>\n",
              "    </tr>\n",
              "    <tr>\n",
              "      <th>3</th>\n",
              "      <td>FBI Russia probe helped by Australian diplomat...</td>\n",
              "      <td>WASHINGTON (Reuters) - Trump campaign adviser ...</td>\n",
              "      <td>politicsNews</td>\n",
              "      <td>December 30, 2017</td>\n",
              "      <td>1</td>\n",
              "    </tr>\n",
              "    <tr>\n",
              "      <th>4</th>\n",
              "      <td>Trump wants Postal Service to charge 'much mor...</td>\n",
              "      <td>SEATTLE/WASHINGTON (Reuters) - President Donal...</td>\n",
              "      <td>politicsNews</td>\n",
              "      <td>December 29, 2017</td>\n",
              "      <td>1</td>\n",
              "    </tr>\n",
              "  </tbody>\n",
              "</table>\n",
              "</div>"
            ],
            "text/plain": [
              "                                               title  ... target\n",
              "0  As U.S. budget fight looms, Republicans flip t...  ...      1\n",
              "1  U.S. military to accept transgender recruits o...  ...      1\n",
              "2  Senior U.S. Republican senator: 'Let Mr. Muell...  ...      1\n",
              "3  FBI Russia probe helped by Australian diplomat...  ...      1\n",
              "4  Trump wants Postal Service to charge 'much mor...  ...      1\n",
              "\n",
              "[5 rows x 5 columns]"
            ]
          },
          "metadata": {
            "tags": []
          },
          "execution_count": 57
        }
      ]
    },
    {
      "cell_type": "markdown",
      "metadata": {
        "id": "KUAUCqPrdx51"
      },
      "source": [
        "# Data Cleaning"
      ]
    },
    {
      "cell_type": "code",
      "metadata": {
        "id": "T-400OnQdn5Q"
      },
      "source": [
        "#remove url and html\n",
        "def remove_url(text):\n",
        "  url = re.compile(r\"https?://\\S+|www\\.\\S+\")\n",
        "  return url.sub(r\"\",text)\n",
        "\n",
        "def remove_html(text):\n",
        "  html = re.compile(r\"<.*?>\")\n",
        "  return html.sub(r\"\",text)"
      ],
      "execution_count": null,
      "outputs": []
    },
    {
      "cell_type": "code",
      "metadata": {
        "id": "d20r-N3LeakF"
      },
      "source": [
        "#removal of Punctuation Marks and Special Characters\n",
        "def remove_punctuation(text):\n",
        "  return re.sub('\\[[^]]*\\]', '', text)\n",
        "\n",
        "def special_char(text):\n",
        "  return re.sub(\"[^a-zA-Z]\",\" \",text)"
      ],
      "execution_count": null,
      "outputs": []
    },
    {
      "cell_type": "code",
      "metadata": {
        "colab": {
          "base_uri": "https://localhost:8080/"
        },
        "id": "cWbddSX6rOjA",
        "outputId": "f577e312-dd3e-4e30-f2a3-9530cbf88da2"
      },
      "source": [
        "#remove stopwords\n",
        "nltk.download('punkt')\n",
        "nltk.download('stopwords')\n",
        "nltk.download('wordnet')\n",
        "def remove_stop_words(text):\n",
        "  text = text.lower()\n",
        "  text = nltk.word_tokenize(text)\n",
        "  text = [word for word in text if not word in set(stopwords.words(\"english\"))]\n",
        "  return text"
      ],
      "execution_count": null,
      "outputs": [
        {
          "output_type": "stream",
          "text": [
            "[nltk_data] Downloading package punkt to /root/nltk_data...\n",
            "[nltk_data]   Package punkt is already up-to-date!\n",
            "[nltk_data] Downloading package stopwords to /root/nltk_data...\n",
            "[nltk_data]   Package stopwords is already up-to-date!\n",
            "[nltk_data] Downloading package wordnet to /root/nltk_data...\n",
            "[nltk_data]   Package wordnet is already up-to-date!\n"
          ],
          "name": "stdout"
        }
      ]
    },
    {
      "cell_type": "code",
      "metadata": {
        "id": "cCpb2VagtWrF"
      },
      "source": [
        "#lemmatization\n",
        "def lemmatize_word(text):\n",
        "  lemma = nltk.WordNetLemmatizer()\n",
        "  text = \" \".join([lemma.lemmatize(word) for word in text])\n",
        "  return text"
      ],
      "execution_count": null,
      "outputs": []
    },
    {
      "cell_type": "code",
      "metadata": {
        "id": "49E9STNOuSM7"
      },
      "source": [
        "#now applying all the function\n",
        "data[\"text\"] = data[\"text\"].apply(lambda x: remove_url(x))\n",
        "data[\"text\"] = data[\"text\"].apply(lambda x: remove_html(x))\n",
        "data[\"text\"] = data[\"text\"].apply(lambda x: remove_punctuation(x))\n",
        "data[\"text\"] = data[\"text\"].apply(lambda x: special_char(x))\n",
        "data[\"text\"] = data[\"text\"].apply(lambda x: remove_stop_words(x))\n",
        "data[\"text\"] = data[\"text\"].apply(lambda x: lemmatize_word(x))"
      ],
      "execution_count": null,
      "outputs": []
    },
    {
      "cell_type": "markdown",
      "metadata": {
        "id": "uXNDMCTn4JUx"
      },
      "source": [
        "# Modeling"
      ]
    },
    {
      "cell_type": "code",
      "metadata": {
        "id": "4k7pwXIV4O2u"
      },
      "source": [
        "x_train, x_test, y_train, y_test = train_test_split(data[\"text\"], data['target'], test_size = 0.2, random_state = 0)"
      ],
      "execution_count": null,
      "outputs": []
    },
    {
      "cell_type": "code",
      "metadata": {
        "colab": {
          "base_uri": "https://localhost:8080/"
        },
        "id": "jNuZYUbBBCXI",
        "outputId": "f441c845-5250-4edf-9fb9-48824ad07437"
      },
      "source": [
        "x_train.shape, y_train.shape"
      ],
      "execution_count": null,
      "outputs": [
        {
          "output_type": "execute_result",
          "data": {
            "text/plain": [
              "((16000,), (16000,))"
            ]
          },
          "metadata": {
            "tags": []
          },
          "execution_count": 80
        }
      ]
    },
    {
      "cell_type": "code",
      "metadata": {
        "id": "lLkdgm5p5wTH"
      },
      "source": [
        "#keep all rows to 300, padding news with less than 300, and truncating long ones\n",
        "vocabulary_size = 100000\n",
        "max_word_length = 500"
      ],
      "execution_count": null,
      "outputs": []
    },
    {
      "cell_type": "code",
      "metadata": {
        "id": "hKnsbcsf6UeO"
      },
      "source": [
        "tokenizer = text.Tokenizer(num_words = vocabulary_size)\n",
        "tokenizer.fit_on_texts(x_train)\n",
        "tokenizer_train = tokenizer.texts_to_sequences(x_train)\n",
        "x_train = sequence.pad_sequences(tokenizer_train, maxlen = max_word_length)"
      ],
      "execution_count": null,
      "outputs": []
    },
    {
      "cell_type": "code",
      "metadata": {
        "id": "MRNRlmrs7tgY"
      },
      "source": [
        "tokenizer_test = tokenizer.texts_to_sequences(x_test)\n",
        "x_test = sequence.pad_sequences(tokenizer_test, maxlen = max_word_length)"
      ],
      "execution_count": null,
      "outputs": []
    },
    {
      "cell_type": "code",
      "metadata": {
        "colab": {
          "base_uri": "https://localhost:8080/"
        },
        "id": "Iu5figxiBqyd",
        "outputId": "e16d265c-3320-4588-8886-b8d9865b43c4"
      },
      "source": [
        "x_train.shape, y_train.shape"
      ],
      "execution_count": null,
      "outputs": [
        {
          "output_type": "execute_result",
          "data": {
            "text/plain": [
              "((16000, 500), (16000,))"
            ]
          },
          "metadata": {
            "tags": []
          },
          "execution_count": 84
        }
      ]
    },
    {
      "cell_type": "markdown",
      "metadata": {
        "id": "wR2GXjnA8nj-"
      },
      "source": [
        "## Training LSTM Model"
      ]
    },
    {
      "cell_type": "code",
      "metadata": {
        "id": "6HX1j1Q88fB5"
      },
      "source": [
        "batch_size = 256\n",
        "epochs = 10\n",
        "embed_size = 100"
      ],
      "execution_count": null,
      "outputs": []
    },
    {
      "cell_type": "code",
      "metadata": {
        "id": "0Z8nx8yG8xJM"
      },
      "source": [
        "model = Sequential()\n",
        "\n",
        "model.add(Embedding(vocabulary_size, embed_size, input_length = max_word_length, trainable = False))\n",
        "\n",
        "model.add(LSTM(units = 128, return_sequences = True, recurrent_dropout = 0.25, dropout = 0.25))\n",
        "model.add(LSTM(units = 64, recurrent_dropout = 0.1, dropout = 0.1))\n",
        "model.add(Dense(units = 32, activation = 'relu'))\n",
        "model.add(Dense(1, activation = 'sigmoid'))"
      ],
      "execution_count": null,
      "outputs": []
    },
    {
      "cell_type": "code",
      "metadata": {
        "colab": {
          "base_uri": "https://localhost:8080/"
        },
        "id": "vFqCGpxH_H2M",
        "outputId": "10c9b087-d93d-4b33-cc42-ba1d7afd792e"
      },
      "source": [
        "model.compile(optimizer = keras.optimizers.Adam(lr=0.01) ,  loss = 'binary_crossentropy', metrics = ['accuracy'])"
      ],
      "execution_count": null,
      "outputs": [
        {
          "output_type": "stream",
          "text": [
            "/usr/local/lib/python3.7/dist-packages/tensorflow/python/keras/optimizer_v2/optimizer_v2.py:375: UserWarning: The `lr` argument is deprecated, use `learning_rate` instead.\n",
            "  \"The `lr` argument is deprecated, use `learning_rate` instead.\")\n"
          ],
          "name": "stderr"
        }
      ]
    },
    {
      "cell_type": "code",
      "metadata": {
        "colab": {
          "base_uri": "https://localhost:8080/"
        },
        "id": "TFc7--l5_y6C",
        "outputId": "7b84fd32-b49b-45a9-f632-18dedad18eef"
      },
      "source": [
        "model.summary()"
      ],
      "execution_count": null,
      "outputs": [
        {
          "output_type": "stream",
          "text": [
            "Model: \"sequential_2\"\n",
            "_________________________________________________________________\n",
            "Layer (type)                 Output Shape              Param #   \n",
            "=================================================================\n",
            "embedding_2 (Embedding)      (None, 500, 100)          10000000  \n",
            "_________________________________________________________________\n",
            "lstm_4 (LSTM)                (None, 500, 128)          117248    \n",
            "_________________________________________________________________\n",
            "lstm_5 (LSTM)                (None, 64)                49408     \n",
            "_________________________________________________________________\n",
            "dense_4 (Dense)              (None, 32)                2080      \n",
            "_________________________________________________________________\n",
            "dense_5 (Dense)              (None, 1)                 33        \n",
            "=================================================================\n",
            "Total params: 10,168,769\n",
            "Trainable params: 168,769\n",
            "Non-trainable params: 10,000,000\n",
            "_________________________________________________________________\n"
          ],
          "name": "stdout"
        }
      ]
    },
    {
      "cell_type": "code",
      "metadata": {
        "colab": {
          "base_uri": "https://localhost:8080/"
        },
        "id": "cjxsA0f4_1zP",
        "outputId": "9e623e79-c076-4b18-82e6-c3a11c84646a"
      },
      "source": [
        "model.fit(x_train, y_train, validation_split = 0.3, epochs = 5, batch_size = batch_size, shuffle = True, verbose = 1)"
      ],
      "execution_count": null,
      "outputs": [
        {
          "output_type": "stream",
          "text": [
            "Epoch 1/5\n",
            "44/44 [==============================] - 312s 7s/step - loss: 0.5365 - accuracy: 0.7294 - val_loss: 0.1907 - val_accuracy: 0.9390\n",
            "Epoch 2/5\n",
            "44/44 [==============================] - 303s 7s/step - loss: 0.1791 - accuracy: 0.9447 - val_loss: 0.1813 - val_accuracy: 0.9413\n",
            "Epoch 3/5\n",
            "44/44 [==============================] - 303s 7s/step - loss: 0.1995 - accuracy: 0.9366 - val_loss: 0.1833 - val_accuracy: 0.9423\n",
            "Epoch 4/5\n",
            "44/44 [==============================] - 303s 7s/step - loss: 0.1635 - accuracy: 0.9496 - val_loss: 0.1773 - val_accuracy: 0.9410\n",
            "Epoch 5/5\n",
            "44/44 [==============================] - 303s 7s/step - loss: 0.1504 - accuracy: 0.9520 - val_loss: 0.1427 - val_accuracy: 0.9492\n"
          ],
          "name": "stdout"
        },
        {
          "output_type": "execute_result",
          "data": {
            "text/plain": [
              "<keras.callbacks.History at 0x7f21301ed590>"
            ]
          },
          "metadata": {
            "tags": []
          },
          "execution_count": 97
        }
      ]
    },
    {
      "cell_type": "markdown",
      "metadata": {
        "id": "bWvbOmMSUnnc"
      },
      "source": [
        "## Testing"
      ]
    },
    {
      "cell_type": "code",
      "metadata": {
        "colab": {
          "base_uri": "https://localhost:8080/"
        },
        "id": "klKWjuhJON-L",
        "outputId": "f2aab6d1-0187-4aa4-b3f8-2fdb5fd26aa7"
      },
      "source": [
        "model.evaluate(x_test, y_test)[1]*100"
      ],
      "execution_count": null,
      "outputs": [
        {
          "output_type": "stream",
          "text": [
            "125/125 [==============================] - 26s 208ms/step - loss: 0.1404 - accuracy: 0.9515\n"
          ],
          "name": "stdout"
        },
        {
          "output_type": "execute_result",
          "data": {
            "text/plain": [
              "95.14999985694885"
            ]
          },
          "metadata": {
            "tags": []
          },
          "execution_count": 99
        }
      ]
    },
    {
      "cell_type": "code",
      "metadata": {
        "colab": {
          "base_uri": "https://localhost:8080/",
          "height": 460
        },
        "id": "3sjxOyTvW_9Y",
        "outputId": "ed65ebf0-a97c-49a3-c926-83f823c50035"
      },
      "source": [
        "from collections import Counter\n",
        "data['temp_list']=data['text'].apply(lambda x: str(x).split())\n",
        "top=Counter([word for li in data['temp_list'] for word in li])\n",
        "temp_1=pd.DataFrame(top.most_common(20))\n",
        "temp_1.columns=[\"most_common_words\",\"frequency\"]\n",
        "temp_1.style.background_gradient(cmap='Blues')"
      ],
      "execution_count": null,
      "outputs": [
        {
          "output_type": "execute_result",
          "data": {
            "text/html": [
              "<style  type=\"text/css\" >\n",
              "#T_6f0e5512_cf54_11eb_b437_0242ac1c0002row0_col1{\n",
              "            background-color:  #08306b;\n",
              "            color:  #f1f1f1;\n",
              "        }#T_6f0e5512_cf54_11eb_b437_0242ac1c0002row1_col1{\n",
              "            background-color:  #5aa2cf;\n",
              "            color:  #000000;\n",
              "        }#T_6f0e5512_cf54_11eb_b437_0242ac1c0002row2_col1{\n",
              "            background-color:  #bfd8ed;\n",
              "            color:  #000000;\n",
              "        }#T_6f0e5512_cf54_11eb_b437_0242ac1c0002row3_col1{\n",
              "            background-color:  #cee0f2;\n",
              "            color:  #000000;\n",
              "        }#T_6f0e5512_cf54_11eb_b437_0242ac1c0002row4_col1{\n",
              "            background-color:  #cfe1f2;\n",
              "            color:  #000000;\n",
              "        }#T_6f0e5512_cf54_11eb_b437_0242ac1c0002row5_col1{\n",
              "            background-color:  #d1e2f3;\n",
              "            color:  #000000;\n",
              "        }#T_6f0e5512_cf54_11eb_b437_0242ac1c0002row6_col1{\n",
              "            background-color:  #d3e4f3;\n",
              "            color:  #000000;\n",
              "        }#T_6f0e5512_cf54_11eb_b437_0242ac1c0002row7_col1{\n",
              "            background-color:  #e6f0f9;\n",
              "            color:  #000000;\n",
              "        }#T_6f0e5512_cf54_11eb_b437_0242ac1c0002row8_col1{\n",
              "            background-color:  #e7f0fa;\n",
              "            color:  #000000;\n",
              "        }#T_6f0e5512_cf54_11eb_b437_0242ac1c0002row9_col1,#T_6f0e5512_cf54_11eb_b437_0242ac1c0002row10_col1{\n",
              "            background-color:  #eaf3fb;\n",
              "            color:  #000000;\n",
              "        }#T_6f0e5512_cf54_11eb_b437_0242ac1c0002row11_col1{\n",
              "            background-color:  #eef5fc;\n",
              "            color:  #000000;\n",
              "        }#T_6f0e5512_cf54_11eb_b437_0242ac1c0002row12_col1,#T_6f0e5512_cf54_11eb_b437_0242ac1c0002row13_col1,#T_6f0e5512_cf54_11eb_b437_0242ac1c0002row14_col1,#T_6f0e5512_cf54_11eb_b437_0242ac1c0002row15_col1{\n",
              "            background-color:  #f4f9fe;\n",
              "            color:  #000000;\n",
              "        }#T_6f0e5512_cf54_11eb_b437_0242ac1c0002row16_col1,#T_6f0e5512_cf54_11eb_b437_0242ac1c0002row17_col1,#T_6f0e5512_cf54_11eb_b437_0242ac1c0002row18_col1{\n",
              "            background-color:  #f5fafe;\n",
              "            color:  #000000;\n",
              "        }#T_6f0e5512_cf54_11eb_b437_0242ac1c0002row19_col1{\n",
              "            background-color:  #f7fbff;\n",
              "            color:  #000000;\n",
              "        }</style><table id=\"T_6f0e5512_cf54_11eb_b437_0242ac1c0002\" ><thead>    <tr>        <th class=\"blank level0\" ></th>        <th class=\"col_heading level0 col0\" >most_common_words</th>        <th class=\"col_heading level0 col1\" >frequency</th>    </tr></thead><tbody>\n",
              "                <tr>\n",
              "                        <th id=\"T_6f0e5512_cf54_11eb_b437_0242ac1c0002level0_row0\" class=\"row_heading level0 row0\" >0</th>\n",
              "                        <td id=\"T_6f0e5512_cf54_11eb_b437_0242ac1c0002row0_col0\" class=\"data row0 col0\" >trump</td>\n",
              "                        <td id=\"T_6f0e5512_cf54_11eb_b437_0242ac1c0002row0_col1\" class=\"data row0 col1\" >101231</td>\n",
              "            </tr>\n",
              "            <tr>\n",
              "                        <th id=\"T_6f0e5512_cf54_11eb_b437_0242ac1c0002level0_row1\" class=\"row_heading level0 row1\" >1</th>\n",
              "                        <td id=\"T_6f0e5512_cf54_11eb_b437_0242ac1c0002row1_col0\" class=\"data row1 col0\" >said</td>\n",
              "                        <td id=\"T_6f0e5512_cf54_11eb_b437_0242ac1c0002row1_col1\" class=\"data row1 col1\" >61939</td>\n",
              "            </tr>\n",
              "            <tr>\n",
              "                        <th id=\"T_6f0e5512_cf54_11eb_b437_0242ac1c0002level0_row2\" class=\"row_heading level0 row2\" >2</th>\n",
              "                        <td id=\"T_6f0e5512_cf54_11eb_b437_0242ac1c0002row2_col0\" class=\"data row2 col0\" >u</td>\n",
              "                        <td id=\"T_6f0e5512_cf54_11eb_b437_0242ac1c0002row2_col1\" class=\"data row2 col1\" >37341</td>\n",
              "            </tr>\n",
              "            <tr>\n",
              "                        <th id=\"T_6f0e5512_cf54_11eb_b437_0242ac1c0002level0_row3\" class=\"row_heading level0 row3\" >3</th>\n",
              "                        <td id=\"T_6f0e5512_cf54_11eb_b437_0242ac1c0002row3_col0\" class=\"data row3 col0\" >president</td>\n",
              "                        <td id=\"T_6f0e5512_cf54_11eb_b437_0242ac1c0002row3_col1\" class=\"data row3 col1\" >31922</td>\n",
              "            </tr>\n",
              "            <tr>\n",
              "                        <th id=\"T_6f0e5512_cf54_11eb_b437_0242ac1c0002level0_row4\" class=\"row_heading level0 row4\" >4</th>\n",
              "                        <td id=\"T_6f0e5512_cf54_11eb_b437_0242ac1c0002row4_col0\" class=\"data row4 col0\" >republican</td>\n",
              "                        <td id=\"T_6f0e5512_cf54_11eb_b437_0242ac1c0002row4_col1\" class=\"data row4 col1\" >31469</td>\n",
              "            </tr>\n",
              "            <tr>\n",
              "                        <th id=\"T_6f0e5512_cf54_11eb_b437_0242ac1c0002level0_row5\" class=\"row_heading level0 row5\" >5</th>\n",
              "                        <td id=\"T_6f0e5512_cf54_11eb_b437_0242ac1c0002row5_col0\" class=\"data row5 col0\" >would</td>\n",
              "                        <td id=\"T_6f0e5512_cf54_11eb_b437_0242ac1c0002row5_col1\" class=\"data row5 col1\" >30302</td>\n",
              "            </tr>\n",
              "            <tr>\n",
              "                        <th id=\"T_6f0e5512_cf54_11eb_b437_0242ac1c0002level0_row6\" class=\"row_heading level0 row6\" >6</th>\n",
              "                        <td id=\"T_6f0e5512_cf54_11eb_b437_0242ac1c0002row6_col0\" class=\"data row6 col0\" >state</td>\n",
              "                        <td id=\"T_6f0e5512_cf54_11eb_b437_0242ac1c0002row6_col1\" class=\"data row6 col1\" >29479</td>\n",
              "            </tr>\n",
              "            <tr>\n",
              "                        <th id=\"T_6f0e5512_cf54_11eb_b437_0242ac1c0002level0_row7\" class=\"row_heading level0 row7\" >7</th>\n",
              "                        <td id=\"T_6f0e5512_cf54_11eb_b437_0242ac1c0002row7_col0\" class=\"data row7 col0\" >people</td>\n",
              "                        <td id=\"T_6f0e5512_cf54_11eb_b437_0242ac1c0002row7_col1\" class=\"data row7 col1\" >21260</td>\n",
              "            </tr>\n",
              "            <tr>\n",
              "                        <th id=\"T_6f0e5512_cf54_11eb_b437_0242ac1c0002level0_row8\" class=\"row_heading level0 row8\" >8</th>\n",
              "                        <td id=\"T_6f0e5512_cf54_11eb_b437_0242ac1c0002row8_col0\" class=\"data row8 col0\" >donald</td>\n",
              "                        <td id=\"T_6f0e5512_cf54_11eb_b437_0242ac1c0002row8_col1\" class=\"data row8 col1\" >20679</td>\n",
              "            </tr>\n",
              "            <tr>\n",
              "                        <th id=\"T_6f0e5512_cf54_11eb_b437_0242ac1c0002level0_row9\" class=\"row_heading level0 row9\" >9</th>\n",
              "                        <td id=\"T_6f0e5512_cf54_11eb_b437_0242ac1c0002row9_col0\" class=\"data row9 col0\" >one</td>\n",
              "                        <td id=\"T_6f0e5512_cf54_11eb_b437_0242ac1c0002row9_col1\" class=\"data row9 col1\" >19238</td>\n",
              "            </tr>\n",
              "            <tr>\n",
              "                        <th id=\"T_6f0e5512_cf54_11eb_b437_0242ac1c0002level0_row10\" class=\"row_heading level0 row10\" >10</th>\n",
              "                        <td id=\"T_6f0e5512_cf54_11eb_b437_0242ac1c0002row10_col0\" class=\"data row10 col0\" >house</td>\n",
              "                        <td id=\"T_6f0e5512_cf54_11eb_b437_0242ac1c0002row10_col1\" class=\"data row10 col1\" >19172</td>\n",
              "            </tr>\n",
              "            <tr>\n",
              "                        <th id=\"T_6f0e5512_cf54_11eb_b437_0242ac1c0002level0_row11\" class=\"row_heading level0 row11\" >11</th>\n",
              "                        <td id=\"T_6f0e5512_cf54_11eb_b437_0242ac1c0002row11_col0\" class=\"data row11 col0\" >year</td>\n",
              "                        <td id=\"T_6f0e5512_cf54_11eb_b437_0242ac1c0002row11_col1\" class=\"data row11 col1\" >17439</td>\n",
              "            </tr>\n",
              "            <tr>\n",
              "                        <th id=\"T_6f0e5512_cf54_11eb_b437_0242ac1c0002level0_row12\" class=\"row_heading level0 row12\" >12</th>\n",
              "                        <td id=\"T_6f0e5512_cf54_11eb_b437_0242ac1c0002row12_col0\" class=\"data row12 col0\" >new</td>\n",
              "                        <td id=\"T_6f0e5512_cf54_11eb_b437_0242ac1c0002row12_col1\" class=\"data row12 col1\" >15148</td>\n",
              "            </tr>\n",
              "            <tr>\n",
              "                        <th id=\"T_6f0e5512_cf54_11eb_b437_0242ac1c0002level0_row13\" class=\"row_heading level0 row13\" >13</th>\n",
              "                        <td id=\"T_6f0e5512_cf54_11eb_b437_0242ac1c0002row13_col0\" class=\"data row13 col0\" >clinton</td>\n",
              "                        <td id=\"T_6f0e5512_cf54_11eb_b437_0242ac1c0002row13_col1\" class=\"data row13 col1\" >15110</td>\n",
              "            </tr>\n",
              "            <tr>\n",
              "                        <th id=\"T_6f0e5512_cf54_11eb_b437_0242ac1c0002level0_row14\" class=\"row_heading level0 row14\" >14</th>\n",
              "                        <td id=\"T_6f0e5512_cf54_11eb_b437_0242ac1c0002row14_col0\" class=\"data row14 col0\" >also</td>\n",
              "                        <td id=\"T_6f0e5512_cf54_11eb_b437_0242ac1c0002row14_col1\" class=\"data row14 col1\" >14916</td>\n",
              "            </tr>\n",
              "            <tr>\n",
              "                        <th id=\"T_6f0e5512_cf54_11eb_b437_0242ac1c0002level0_row15\" class=\"row_heading level0 row15\" >15</th>\n",
              "                        <td id=\"T_6f0e5512_cf54_11eb_b437_0242ac1c0002row15_col0\" class=\"data row15 col0\" >white</td>\n",
              "                        <td id=\"T_6f0e5512_cf54_11eb_b437_0242ac1c0002row15_col1\" class=\"data row15 col1\" >14844</td>\n",
              "            </tr>\n",
              "            <tr>\n",
              "                        <th id=\"T_6f0e5512_cf54_11eb_b437_0242ac1c0002level0_row16\" class=\"row_heading level0 row16\" >16</th>\n",
              "                        <td id=\"T_6f0e5512_cf54_11eb_b437_0242ac1c0002row16_col0\" class=\"data row16 col0\" >obama</td>\n",
              "                        <td id=\"T_6f0e5512_cf54_11eb_b437_0242ac1c0002row16_col1\" class=\"data row16 col1\" >14439</td>\n",
              "            </tr>\n",
              "            <tr>\n",
              "                        <th id=\"T_6f0e5512_cf54_11eb_b437_0242ac1c0002level0_row17\" class=\"row_heading level0 row17\" >17</th>\n",
              "                        <td id=\"T_6f0e5512_cf54_11eb_b437_0242ac1c0002row17_col0\" class=\"data row17 col0\" >campaign</td>\n",
              "                        <td id=\"T_6f0e5512_cf54_11eb_b437_0242ac1c0002row17_col1\" class=\"data row17 col1\" >14350</td>\n",
              "            </tr>\n",
              "            <tr>\n",
              "                        <th id=\"T_6f0e5512_cf54_11eb_b437_0242ac1c0002level0_row18\" class=\"row_heading level0 row18\" >18</th>\n",
              "                        <td id=\"T_6f0e5512_cf54_11eb_b437_0242ac1c0002row18_col0\" class=\"data row18 col0\" >time</td>\n",
              "                        <td id=\"T_6f0e5512_cf54_11eb_b437_0242ac1c0002row18_col1\" class=\"data row18 col1\" >14311</td>\n",
              "            </tr>\n",
              "            <tr>\n",
              "                        <th id=\"T_6f0e5512_cf54_11eb_b437_0242ac1c0002level0_row19\" class=\"row_heading level0 row19\" >19</th>\n",
              "                        <td id=\"T_6f0e5512_cf54_11eb_b437_0242ac1c0002row19_col0\" class=\"data row19 col0\" >image</td>\n",
              "                        <td id=\"T_6f0e5512_cf54_11eb_b437_0242ac1c0002row19_col1\" class=\"data row19 col1\" >13434</td>\n",
              "            </tr>\n",
              "    </tbody></table>"
            ],
            "text/plain": [
              "<pandas.io.formats.style.Styler at 0x7f20fb095d90>"
            ]
          },
          "metadata": {
            "tags": []
          },
          "execution_count": 111
        }
      ]
    },
    {
      "cell_type": "code",
      "metadata": {
        "colab": {
          "base_uri": "https://localhost:8080/",
          "height": 1000
        },
        "id": "uqLxwL40bZ0H",
        "outputId": "d5105233-088f-4580-c907-373fb08438a6"
      },
      "source": [
        "# data_1=data[data['target']==1]\n",
        "# pd.Series(' '.join([i for i in data.text]).split()).value_counts()[:50].plot(kind='bar',figsize=(20,8),color='yellow'\n",
        "#                                                                                        ,edgecolor='black',title='Real')\n",
        "# plt.show()\n",
        "\n",
        "# data_1=data[data['target']==0]\n",
        "# pd.Series(' '.join([i for i in data.text]).split()).value_counts()[:50].plot(kind='bar',figsize=(20,8),color='red'\n",
        "#                                                                                        ,edgecolor='black',title='Fake')\n",
        "# plt.show()"
      ],
      "execution_count": null,
      "outputs": [
        {
          "output_type": "display_data",
          "data": {
            "image/png": "[encoded data removed]",
            "text/plain": [
              "<Figure size 1440x576 with 1 Axes>"
            ]
          },
          "metadata": {
            "tags": [],
            "needs_background": "light"
          }
        },
        {
          "output_type": "display_data",
          "data": {
            "image/png": "[encoded data removed]",
            "text/plain": [
              "<Figure size 1440x576 with 1 Axes>"
            ]
          },
          "metadata": {
            "tags": [],
            "needs_background": "light"
          }
        }
      ]
    },
    {
      "cell_type": "code",
      "metadata": {
        "id": "amR8epWWdY1Y"
      },
      "source": [
        ""
      ],
      "execution_count": null,
      "outputs": []
    }
  ]
}